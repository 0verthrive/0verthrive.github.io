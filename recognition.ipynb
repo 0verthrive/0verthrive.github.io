{
  "nbformat": 4,
  "nbformat_minor": 0,
  "metadata": {
    "colab": {
      "provenance": [],
      "collapsed_sections": [],
      "authorship_tag": "ABX9TyNRPkiNL9cAuT0f09atFaqU",
      "include_colab_link": true
    },
    "kernelspec": {
      "name": "python3",
      "display_name": "Python 3"
    },
    "language_info": {
      "name": "python"
    }
  },
  "cells": [
    {
      "cell_type": "markdown",
      "metadata": {
        "id": "view-in-github",
        "colab_type": "text"
      },
      "source": [
        "<a href=\"https://colab.research.google.com/github/0verthrive/0verthrive.github.io/blob/main/recognition.ipynb\" target=\"_parent\"><img src=\"https://colab.research.google.com/assets/colab-badge.svg\" alt=\"Open In Colab\"/></a>"
      ]
    },
    {
      "cell_type": "code",
      "execution_count": null,
      "metadata": {
        "id": "o2pTLv5uZoBP"
      },
      "outputs": [],
      "source": [
        "!pip install captcha"
      ]
    },
    {
      "cell_type": "code",
      "source": [
        "!git clone https://github.com/AlexeyAB/darknet"
      ],
      "metadata": {
        "id": "kCZ5-heFocRw"
      },
      "execution_count": null,
      "outputs": []
    },
    {
      "cell_type": "code",
      "source": [
        "!wget https://github.com/AlexeyAB/darknet/releases/download/darknet_yolo_v3_optimal/yolov4.weights"
      ],
      "metadata": {
        "id": "84ky79Hfof48"
      },
      "execution_count": null,
      "outputs": []
    },
    {
      "cell_type": "code",
      "source": [
        "!./darknet detect cfg/yolov4.cfg yolov4.weights data/person.jpg\n",
        "!/content/darknet/scripts/get_coco_dataset.sh"
      ],
      "metadata": {
        "id": "4yyCSqjkpbAE"
      },
      "execution_count": null,
      "outputs": []
    },
    {
      "cell_type": "code",
      "source": [
        "!pip install -q pyngrok"
      ],
      "metadata": {
        "id": "HMIMtWgya1V_"
      },
      "execution_count": null,
      "outputs": []
    },
    {
      "cell_type": "code",
      "source": [
        "!pip install -q streamlit"
      ],
      "metadata": {
        "id": "QgxkidepaUjp"
      },
      "execution_count": null,
      "outputs": []
    },
    {
      "cell_type": "code",
      "source": [
        "from pyngrok import ngrok"
      ],
      "metadata": {
        "id": "jb8puDdXcsWM"
      },
      "execution_count": 20,
      "outputs": []
    },
    {
      "cell_type": "code",
      "source": [
        "!streamlit run app.py &>/dev/null&"
      ],
      "metadata": {
        "id": "dxaBJv3qcs9o"
      },
      "execution_count": 21,
      "outputs": []
    },
    {
      "cell_type": "code",
      "source": [
        "%%writefile app.py\n",
        "from captcha.image import ImageCaptcha\n",
        "import streamlit as st\n",
        "import matplotlib.pyplot as plt\n",
        "import numpy as np\n",
        "import random\n",
        "import string\n",
        "import os\n",
        "import cv2\n",
        "\n",
        "def recognition_page():\n",
        "    def detectar(imagem):\n",
        "      os.system(\"cd /content/darknet && ./darknet detect cfg/yolov4.cfg yolov4.weights {}\".format(imagem))\n",
        "\n",
        "    st.write('Tire uma selfie segurando um relógio')\n",
        "\n",
        "    imagem = st.file_uploader('selfie')\n",
        "    if st.button(\"Verificar\"):\n",
        "      st.image(imagem)\n",
        "      detectar(imagem)\n",
        "\n",
        "\n",
        "def verify(text, img):\n",
        "    return text == img\n",
        "\n",
        "def generator_img(w, h, text):\n",
        "    generator = ImageCaptcha(w, h)\n",
        "    img = generator.generate_image(text)\n",
        "    return img\n",
        "\n",
        "\n",
        "def main():\n",
        "    w, h = 160, 80\n",
        "\n",
        "    html_temp = \"\"\"\n",
        "    <body style=\"background-color:black\">\n",
        "    <div style =\"background-color:#d80c1b;padding:13px\"> \n",
        "    <h1 style =\"color:white;text-align:center;\">S4NT4ND3ER</h1> \n",
        "    </div>\n",
        "    <br/>\n",
        "    </body> \n",
        "    \"\"\"  \n",
        "    st.markdown(html_temp, unsafe_allow_html = True)\n",
        "\n",
        "    text = \"3L3S1D5\"\n",
        "    img = generator_img(w, h, text)\n",
        "    \n",
        "    st.image(img)\n",
        "\n",
        "    digit = st.text_input('autenticação:')\n",
        "    \n",
        "    if verify(digit, text):\n",
        "        recognition_page()\n",
        "\n",
        "    \n",
        " \n",
        "if __name__=='__main__': \n",
        "    main()  \n"
      ],
      "metadata": {
        "id": "1R_fMy7mczlv"
      },
      "execution_count": null,
      "outputs": []
    },
    {
      "cell_type": "code",
      "source": [
        "!streamlit run app.py & npx localtunnel --port 8501"
      ],
      "metadata": {
        "id": "qA-3kih0uLsX"
      },
      "execution_count": null,
      "outputs": []
    },
    {
      "cell_type": "code",
      "source": [],
      "metadata": {
        "id": "fPUIke7Zby16"
      },
      "execution_count": null,
      "outputs": []
    }
  ]
}